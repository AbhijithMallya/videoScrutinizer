{
 "cells": [
  {
   "cell_type": "code",
   "execution_count": 1,
   "metadata": {},
   "outputs": [
    {
     "ename": "ModuleNotFoundError",
     "evalue": "No module named 'face_recognition'",
     "output_type": "error",
     "traceback": [
      "\u001b[1;31m---------------------------------------------------------------------------\u001b[0m",
      "\u001b[1;31mModuleNotFoundError\u001b[0m                       Traceback (most recent call last)",
      "Cell \u001b[1;32mIn[1], line 2\u001b[0m\n\u001b[0;32m      1\u001b[0m \u001b[39mimport\u001b[39;00m \u001b[39mcv2\u001b[39;00m\n\u001b[1;32m----> 2\u001b[0m \u001b[39mimport\u001b[39;00m \u001b[39mface_recognition\u001b[39;00m\n\u001b[0;32m      3\u001b[0m \u001b[39mimport\u001b[39;00m \u001b[39mtkinter\u001b[39;00m \u001b[39mas\u001b[39;00m \u001b[39mtk\u001b[39;00m\n\u001b[0;32m      4\u001b[0m \u001b[39mfrom\u001b[39;00m \u001b[39mtkinter\u001b[39;00m \u001b[39mimport\u001b[39;00m filedialog\n",
      "\u001b[1;31mModuleNotFoundError\u001b[0m: No module named 'face_recognition'"
     ]
    }
   ],
   "source": [
    "import cv2\n",
    "import face_recognition\n",
    "import tkinter as tk\n",
    "from tkinter import filedialog\n",
    "\n",
    "def select_input_image():\n",
    "    global input_image_path\n",
    "    input_image_path = filedialog.askopenfilename()\n",
    "\n",
    "def main():\n",
    "    # Create GUI window\n",
    "    root = tk.Tk()\n",
    "    root.title(\"Image Similarity Checker\")\n",
    "\n",
    "    # Add a button to select input image\n",
    "    select_button = tk.Button(root, text=\"Select Input Image\", command=select_input_image)\n",
    "    select_button.pack()\n",
    "\n",
    "    # Add a label to display result\n",
    "    result_label = tk.Label(root, text=\"\")\n",
    "    result_label.pack()\n",
    "\n",
    "    # Open webcam for capturing frames\n",
    "    webcam = cv2.VideoCapture(0)\n",
    "\n",
    "    while True:\n",
    "        # Capture frame from webcam\n",
    "        ret, frame = webcam.read()\n",
    "\n",
    "        if input_image_path:\n",
    "            # Load input image and extract features\n",
    "            input_image = face_recognition.load_image_file(input_image_path)\n",
    "            input_face_encoding = face_recognition.face_encodings(input_image)[0]\n",
    "\n",
    "            # Find faces in the frame and extract features\n",
    "            face_locations = face_recognition.face_locations(frame)\n",
    "            if face_locations:\n",
    "                face_encoding = face_recognition.face_encodings(frame, face_locations)[0]\n",
    "\n",
    "                # Compare face features with input image's features\n",
    "                face_distance = face_recognition.face_distance([input_face_encoding], face_encoding)[0]\n",
    "\n",
    "                # Define a threshold for similarity\n",
    "                similarity_threshold = 0.6\n",
    "\n",
    "                # Update result label\n",
    "                if face_distance < similarity_threshold:\n",
    "                    result_label.config(text=\"Similar\")\n",
    "                else:\n",
    "                    result_label.config(text=\"Not Similar\")\n",
    "\n",
    "        # Display the frame\n",
    "        cv2.imshow('Webcam', frame)\n",
    "\n",
    "        # Exit the loop if 'q' is pressed\n",
    "        if cv2.waitKey(1) & 0xFF == ord('q'):\n",
    "            break\n",
    "\n",
    "    # Release the webcam and close windows\n",
    "    webcam.release()\n",
    "    cv2.destroyAllWindows()\n",
    "    root.destroy()\n",
    "\n",
    "if __name__ == \"__main__\":\n",
    "    main()\n"
   ]
  }
 ],
 "metadata": {
  "kernelspec": {
   "display_name": "Python 3",
   "language": "python",
   "name": "python3"
  },
  "language_info": {
   "codemirror_mode": {
    "name": "ipython",
    "version": 3
   },
   "file_extension": ".py",
   "mimetype": "text/x-python",
   "name": "python",
   "nbconvert_exporter": "python",
   "pygments_lexer": "ipython3",
   "version": "3.11.0"
  },
  "orig_nbformat": 4
 },
 "nbformat": 4,
 "nbformat_minor": 2
}
